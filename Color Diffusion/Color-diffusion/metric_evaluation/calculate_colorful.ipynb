{
 "cells": [
  {
   "cell_type": "code",
   "execution_count": 1,
   "metadata": {},
   "outputs": [],
   "source": [
    "import os\n",
    "import numpy as np\n",
    "from skimage.color import rgb2lab\n",
    "from skimage.io import imread"
   ]
  },
  {
   "cell_type": "code",
   "execution_count": 2,
   "metadata": {},
   "outputs": [],
   "source": [
    "def calculate_colorful_metric(image_path):\n",
    "    # Load the image\n",
    "    image = imread(image_path)\n",
    "    \n",
    "    # Convert the image to CIE Lab color space\n",
    "    lab_image = rgb2lab(image)\n",
    "    \n",
    "    # Extract the 'a' and 'b' channels\n",
    "    a_channel = lab_image[:, :, 1]\n",
    "    b_channel = lab_image[:, :, 2]\n",
    "    \n",
    "    # Calculate the mean and standard deviation of the 'a' and 'b' channels\n",
    "    sigma_a = np.std(a_channel)\n",
    "    sigma_b = np.std(b_channel)\n",
    "    mean_a = np.mean(a_channel)\n",
    "    mean_b = np.mean(b_channel)\n",
    "    \n",
    "    # Calculate the colorfulness metric\n",
    "    colorful_metric = np.sqrt(sigma_a**2 + sigma_b**2) + 0.3 * np.sqrt(mean_a**2 + mean_b**2)\n",
    "    return colorful_metric"
   ]
  },
  {
   "cell_type": "code",
   "execution_count": 3,
   "metadata": {},
   "outputs": [],
   "source": [
    "# Paths to folders containing images\n",
    "real_images_folder = 'C:/Users/Arjit/OneDrive/Desktop/MTP/CODE/Color Diffusion/Color-diffusion/test_images/100_gt'\n",
    "fake_images_folder = 'C:/Users/Arjit/OneDrive/Desktop/MTP/CODE/Color Diffusion/Color-diffusion/results/100_output'"
   ]
  },
  {
   "cell_type": "code",
   "execution_count": 4,
   "metadata": {},
   "outputs": [],
   "source": [
    "real_image_files = sorted(os.listdir(real_images_folder))\n",
    "fake_image_files = sorted(os.listdir(fake_images_folder))"
   ]
  },
  {
   "cell_type": "code",
   "execution_count": 5,
   "metadata": {},
   "outputs": [],
   "source": [
    "real_colorful_scores = []\n",
    "fake_colorful_scores = []\n",
    "\n",
    "for real_file, fake_file in zip(real_image_files, fake_image_files):\n",
    "    real_image_path = os.path.join(real_images_folder, real_file)\n",
    "    fake_image_path = os.path.join(fake_images_folder, fake_file)\n",
    "    \n",
    "    try:\n",
    "        real_score = calculate_colorful_metric(real_image_path)\n",
    "        fake_score = calculate_colorful_metric(fake_image_path)\n",
    "        real_colorful_scores.append(real_score)\n",
    "        fake_colorful_scores.append(fake_score)\n",
    "    except ValueError:\n",
    "        # Skip if image is grayscale or any error occurs in color metric\n",
    "        continue\n"
   ]
  },
  {
   "cell_type": "code",
   "execution_count": 6,
   "metadata": {},
   "outputs": [],
   "source": [
    "average_real_colorful = np.mean(real_colorful_scores)\n",
    "average_fake_colorful = np.mean(fake_colorful_scores)\n",
    "\n",
    "# Calculate the difference in colorful scores (Δcolorful)\n",
    "delta_colorful = average_real_colorful - average_fake_colorful"
   ]
  },
  {
   "cell_type": "code",
   "execution_count": 7,
   "metadata": {},
   "outputs": [
    {
     "name": "stdout",
     "output_type": "stream",
     "text": [
      "Average Real Colorful Metric: 19.046051673103317\n",
      "Average Fake Colorful Metric: 19.20676001966041\n",
      "ΔColorful: -0.16070834655709376\n"
     ]
    }
   ],
   "source": [
    "print(f\"Average Real Colorful Metric: {average_real_colorful}\")\n",
    "print(f\"Average Fake Colorful Metric: {average_fake_colorful}\")\n",
    "print(f\"ΔColorful: {delta_colorful}\")"
   ]
  },
  {
   "cell_type": "code",
   "execution_count": null,
   "metadata": {},
   "outputs": [],
   "source": []
  }
 ],
 "metadata": {
  "kernelspec": {
   "display_name": "CT2",
   "language": "python",
   "name": "python3"
  },
  "language_info": {
   "codemirror_mode": {
    "name": "ipython",
    "version": 3
   },
   "file_extension": ".py",
   "mimetype": "text/x-python",
   "name": "python",
   "nbconvert_exporter": "python",
   "pygments_lexer": "ipython3",
   "version": "3.6.13"
  }
 },
 "nbformat": 4,
 "nbformat_minor": 2
}
