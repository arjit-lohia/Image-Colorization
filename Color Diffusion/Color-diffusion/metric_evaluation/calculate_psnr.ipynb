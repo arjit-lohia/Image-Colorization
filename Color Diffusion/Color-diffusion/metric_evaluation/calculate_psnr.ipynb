{
 "cells": [
  {
   "cell_type": "code",
   "execution_count": 1,
   "metadata": {},
   "outputs": [],
   "source": [
    "import os\n",
    "import numpy as np\n",
    "import cv2\n",
    "from skimage.metrics import peak_signal_noise_ratio as compare_psnr"
   ]
  },
  {
   "cell_type": "code",
   "execution_count": 2,
   "metadata": {},
   "outputs": [],
   "source": [
    "def calculate_psnr(img1, img2):\n",
    "    return compare_psnr(img1, img2)\n",
    "\n",
    "def load_image(image_path):\n",
    "    img = cv2.imread(image_path)\n",
    "    # Convert to RGB (OpenCV loads images in BGR by default)\n",
    "    img = cv2.cvtColor(img, cv2.COLOR_BGR2RGB)\n",
    "    return img\n",
    "\n",
    "def resize_image(image, target_shape):\n",
    "    return cv2.resize(image, (target_shape[1], target_shape[0]))"
   ]
  },
  {
   "cell_type": "code",
   "execution_count": 3,
   "metadata": {},
   "outputs": [],
   "source": [
    "def evaluate_psnr(original_folder, fake_folder):\n",
    "    # Get list of image filenames\n",
    "    original_images = sorted(os.listdir(original_folder))\n",
    "    fake_images = sorted(os.listdir(fake_folder))\n",
    "    \n",
    "    psnr_values = []\n",
    "\n",
    "    for orig_file, fake_file in zip(original_images, fake_images):\n",
    "        orig_path = os.path.join(original_folder, orig_file)\n",
    "        fake_path = os.path.join(fake_folder, fake_file)\n",
    "\n",
    "        # Load images\n",
    "        orig_img = load_image(orig_path)\n",
    "        fake_img = load_image(fake_path)\n",
    "\n",
    "        # Resize fake image to match the original image size\n",
    "        fake_img_resized = resize_image(fake_img, orig_img.shape[:2])\n",
    "\n",
    "        # Calculate PSNR\n",
    "        psnr = calculate_psnr(orig_img, fake_img_resized)\n",
    "        psnr_values.append(psnr)\n",
    "\n",
    "    # Calculate the average PSNR over all images\n",
    "    avg_psnr = np.mean(psnr_values)\n",
    "    return avg_psnr"
   ]
  },
  {
   "cell_type": "code",
   "execution_count": 4,
   "metadata": {},
   "outputs": [],
   "source": [
    "# Paths to folders containing images\n",
    "original_folder = 'C:/Users/Arjit/OneDrive/Desktop/MTP/CODE/Color Diffusion/Color-diffusion/test_images/100_gt'\n",
    "fake_folder = 'C:/Users/Arjit/OneDrive/Desktop/MTP/CODE/Color Diffusion/Color-diffusion/results/100_output'"
   ]
  },
  {
   "cell_type": "code",
   "execution_count": 5,
   "metadata": {},
   "outputs": [
    {
     "name": "stdout",
     "output_type": "stream",
     "text": [
      "Average PSNR: 20.684783924649718 dB\n"
     ]
    }
   ],
   "source": [
    "avg_psnr = evaluate_psnr(original_folder, fake_folder)\n",
    "print(f\"Average PSNR: {avg_psnr} dB\")\n"
   ]
  },
  {
   "cell_type": "code",
   "execution_count": null,
   "metadata": {},
   "outputs": [],
   "source": []
  }
 ],
 "metadata": {
  "kernelspec": {
   "display_name": "CT2",
   "language": "python",
   "name": "python3"
  },
  "language_info": {
   "codemirror_mode": {
    "name": "ipython",
    "version": 3
   },
   "file_extension": ".py",
   "mimetype": "text/x-python",
   "name": "python",
   "nbconvert_exporter": "python",
   "pygments_lexer": "ipython3",
   "version": "3.6.13"
  }
 },
 "nbformat": 4,
 "nbformat_minor": 2
}
