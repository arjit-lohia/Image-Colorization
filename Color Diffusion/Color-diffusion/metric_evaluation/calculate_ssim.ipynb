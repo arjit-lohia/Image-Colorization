{
 "cells": [
  {
   "cell_type": "code",
   "execution_count": 1,
   "metadata": {},
   "outputs": [],
   "source": [
    "import os\n",
    "from skimage import io\n",
    "from skimage.metrics import structural_similarity as ssim\n",
    "import numpy as np\n",
    "from PIL import Image"
   ]
  },
  {
   "cell_type": "code",
   "execution_count": 2,
   "metadata": {},
   "outputs": [],
   "source": [
    "# Paths to folders containing images\n",
    "real_images_folder = 'C:/Users/Arjit/OneDrive/Desktop/MTP/CODE/Color Diffusion/Color-diffusion/test_images/100_gt'\n",
    "fake_images_folder = 'C:/Users/Arjit/OneDrive/Desktop/MTP/CODE/Color Diffusion/Color-diffusion/results/100_output'"
   ]
  },
  {
   "cell_type": "code",
   "execution_count": 3,
   "metadata": {},
   "outputs": [],
   "source": [
    "# Function to calculate SSIM score\n",
    "def calculate_ssim(real_image_path, fake_image_path):\n",
    "    # Open images and convert to grayscale (if needed)\n",
    "    real_image = Image.open(real_image_path).convert('RGB')\n",
    "    fake_image = Image.open(fake_image_path).convert('RGB')\n",
    "    \n",
    "    # Resize images to be the same size\n",
    "    real_image = real_image.resize((fake_image.width, fake_image.height))\n",
    "    \n",
    "    # Convert images to numpy arrays\n",
    "    real_image = np.array(real_image)\n",
    "    fake_image = np.array(fake_image)\n",
    "    \n",
    "    # Compute SSIM between the two images\n",
    "    score, _ = ssim(real_image, fake_image, full=True, multichannel=True)\n",
    "    return score"
   ]
  },
  {
   "cell_type": "code",
   "execution_count": 4,
   "metadata": {},
   "outputs": [],
   "source": [
    "real_image_files = sorted(os.listdir(real_images_folder))\n",
    "fake_image_files = sorted(os.listdir(fake_images_folder))"
   ]
  },
  {
   "cell_type": "code",
   "execution_count": 5,
   "metadata": {},
   "outputs": [],
   "source": [
    "# List to store SSIM scores\n",
    "ssim_scores = []\n",
    "\n",
    "# Loop through each image pair and calculate SSIM\n",
    "for real_file, fake_file in zip(real_image_files, fake_image_files):\n",
    "    real_image_path = os.path.join(real_images_folder, real_file)\n",
    "    fake_image_path = os.path.join(fake_images_folder, fake_file)\n",
    "    \n",
    "    # Calculate SSIM score\n",
    "    score = calculate_ssim(real_image_path, fake_image_path)\n",
    "    ssim_scores.append(score)"
   ]
  },
  {
   "cell_type": "code",
   "execution_count": 6,
   "metadata": {},
   "outputs": [
    {
     "name": "stdout",
     "output_type": "stream",
     "text": [
      "Average SSIM Score: 0.8389581615659553\n"
     ]
    }
   ],
   "source": [
    "# Calculate the average SSIM score\n",
    "average_ssim = np.mean(ssim_scores)\n",
    "print(f\"Average SSIM Score: {average_ssim}\")\n"
   ]
  },
  {
   "cell_type": "code",
   "execution_count": null,
   "metadata": {},
   "outputs": [],
   "source": []
  },
  {
   "cell_type": "code",
   "execution_count": null,
   "metadata": {},
   "outputs": [],
   "source": []
  },
  {
   "cell_type": "code",
   "execution_count": null,
   "metadata": {},
   "outputs": [],
   "source": []
  },
  {
   "cell_type": "code",
   "execution_count": 18,
   "metadata": {},
   "outputs": [],
   "source": [
    "import os\n",
    "from skimage.io import imread\n",
    "from skimage.metrics import structural_similarity as ssim\n",
    "import numpy as np\n",
    "from tqdm import tqdm"
   ]
  },
  {
   "cell_type": "code",
   "execution_count": 22,
   "metadata": {},
   "outputs": [],
   "source": [
    "def preprocess_image(image_path, size=(256, 256)):\n",
    "    img = imread(image_path)\n",
    "    # Convert grayscale to RGB\n",
    "    if img.ndim == 2:\n",
    "        img = np.stack([img] * 3, axis=-1)\n",
    "    elif img.shape[2] == 4:\n",
    "        img = img[:, :, :3]  # Remove alpha channel\n",
    "\n",
    "    # Resize to target size and normalize to [0, 1]\n",
    "    img_resized = resize(img, size, anti_aliasing=True)\n",
    "    return img_resized\n",
    "\n",
    "def calculate_ssim(img1, img2):\n",
    "    score, _ = ssim(img1, img2, channel_axis=-1, full=True)\n",
    "    return score\n",
    "\n",
    "def compute_folder_ssim(folder1, folder2, size=(256, 256)):\n",
    "    files1 = sorted([f for f in os.listdir(folder1) if f.lower().endswith(('png', 'jpg', 'jpeg'))])\n",
    "    files2 = sorted([f for f in os.listdir(folder2) if f.lower().endswith(('png', 'jpg', 'jpeg'))])\n",
    "\n",
    "    ssim_scores = []\n",
    "\n",
    "    for f1, f2 in tqdm(zip(files1, files2), total=min(len(files1), len(files2))):\n",
    "        path1 = os.path.join(folder1, f1)\n",
    "        path2 = os.path.join(folder2, f2)\n",
    "        try:\n",
    "            img1 = preprocess_image(path1, size)\n",
    "            img2 = preprocess_image(path2, size)\n",
    "            score = calculate_ssim(img1, img2)\n",
    "            ssim_scores.append(score)\n",
    "        except Exception as e:\n",
    "            continue\n",
    "\n",
    "    if ssim_scores:\n",
    "        return np.mean(ssim_scores)\n",
    "    return None"
   ]
  },
  {
   "cell_type": "code",
   "execution_count": 23,
   "metadata": {},
   "outputs": [],
   "source": [
    "# Paths to folders containing images\n",
    "folder_real = '/home/satyanshu/Documents/test/text-guided-image-colorization/example/test_gt'\n",
    "folder_fake = '/home/satyanshu/Documents/test/text-guided-image-colorization/example/test_output/results/colorized'"
   ]
  },
  {
   "cell_type": "code",
   "execution_count": 24,
   "metadata": {},
   "outputs": [
    {
     "name": "stderr",
     "output_type": "stream",
     "text": [
      "100%|██████████| 1000/1000 [00:03<00:00, 293.17it/s]"
     ]
    },
    {
     "name": "stdout",
     "output_type": "stream",
     "text": [
      "Average SSIM: None\n"
     ]
    },
    {
     "name": "stderr",
     "output_type": "stream",
     "text": [
      "\n"
     ]
    }
   ],
   "source": [
    "\n",
    "avg_ssim = compute_folder_ssim(folder_real, folder_fake)\n",
    "print(\"Average SSIM:\", avg_ssim)\n"
   ]
  },
  {
   "cell_type": "code",
   "execution_count": null,
   "metadata": {},
   "outputs": [],
   "source": []
  }
 ],
 "metadata": {
  "kernelspec": {
   "display_name": "CT2",
   "language": "python",
   "name": "python3"
  },
  "language_info": {
   "codemirror_mode": {
    "name": "ipython",
    "version": 3
   },
   "file_extension": ".py",
   "mimetype": "text/x-python",
   "name": "python",
   "nbconvert_exporter": "python",
   "pygments_lexer": "ipython3",
   "version": "3.6.13"
  }
 },
 "nbformat": 4,
 "nbformat_minor": 2
}
