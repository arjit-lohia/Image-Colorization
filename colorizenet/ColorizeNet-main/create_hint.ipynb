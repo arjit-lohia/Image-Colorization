{
 "cells": [
  {
   "cell_type": "code",
   "execution_count": 2,
   "id": "26e1af33",
   "metadata": {},
   "outputs": [
    {
     "name": "stderr",
     "output_type": "stream",
     "text": [
      "c:\\Users\\Arjit\\miniconda3\\envs\\CT2\\lib\\site-packages\\tqdm\\auto.py:22: TqdmWarning: IProgress not found. Please update jupyter and ipywidgets. See https://ipywidgets.readthedocs.io/en/stable/user_install.html\n",
      "  from .autonotebook import tqdm as notebook_tqdm\n"
     ]
    }
   ],
   "source": [
    "import os\n",
    "import cv2\n",
    "import numpy as np\n",
    "from PIL import Image\n",
    "from colorization_dataset import make_slic_mask, to_pil"
   ]
  },
  {
   "cell_type": "code",
   "execution_count": 7,
   "id": "0b034243",
   "metadata": {},
   "outputs": [],
   "source": [
    "def process_and_save(image_path, out_dir, n_segments=15):\n",
    "    os.makedirs(out_dir, exist_ok=True)\n",
    "    \n",
    "    # Load and convert image to RGB\n",
    "    image_bgr = cv2.imread(image_path)\n",
    "    image_rgb = cv2.cvtColor(image_bgr, cv2.COLOR_BGR2RGB)\n",
    "\n",
    "    # Generate hint and mask\n",
    "    hint, mask = make_slic_mask(image_rgb, n_segments=n_segments, compactness=20, sigma=1)\n",
    "\n",
    "    # Prepare filenames\n",
    "    base = os.path.splitext(os.path.basename(image_path))[0]\n",
    "    hint_path = os.path.join(out_dir, f\"{base}_hint.png\")\n",
    "    mask_path = os.path.join(out_dir, f\"{base}_mask.png\")\n",
    "\n",
    "    # Save as images\n",
    "    Image.fromarray(to_pil(hint)).save(hint_path)\n",
    "    Image.fromarray(mask * 255).convert(\"L\").save(mask_path)\n",
    "\n",
    "    print(f\"Saved hint to {hint_path}\")\n",
    "    print(f\"Saved mask to {mask_path}\")"
   ]
  },
  {
   "cell_type": "code",
   "execution_count": 16,
   "id": "c5b13330",
   "metadata": {},
   "outputs": [
    {
     "name": "stdout",
     "output_type": "stream",
     "text": [
      "Saved hint to E:/MTP/colorizenet/ColorizeNet-main/stroke_masks/output\\6_hint.png\n",
      "Saved mask to E:/MTP/colorizenet/ColorizeNet-main/stroke_masks/output\\6_mask.png\n"
     ]
    }
   ],
   "source": [
    "process_and_save(\"E:/MTP/colorizenet/ColorizeNet-main/stroke_masks/input/6.jpg\", \"E:/MTP/colorizenet/ColorizeNet-main/stroke_masks/output\", n_segments=15)\n"
   ]
  },
  {
   "cell_type": "code",
   "execution_count": null,
   "id": "be23d703",
   "metadata": {},
   "outputs": [],
   "source": []
  }
 ],
 "metadata": {
  "kernelspec": {
   "display_name": "CT2",
   "language": "python",
   "name": "python3"
  },
  "language_info": {
   "codemirror_mode": {
    "name": "ipython",
    "version": 3
   },
   "file_extension": ".py",
   "mimetype": "text/x-python",
   "name": "python",
   "nbconvert_exporter": "python",
   "pygments_lexer": "ipython3",
   "version": "3.6.13"
  }
 },
 "nbformat": 4,
 "nbformat_minor": 5
}
