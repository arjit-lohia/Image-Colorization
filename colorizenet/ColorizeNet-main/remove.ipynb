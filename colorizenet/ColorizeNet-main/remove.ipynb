{
 "cells": [
  {
   "cell_type": "code",
   "execution_count": 1,
   "metadata": {},
   "outputs": [],
   "source": [
    "import os\n",
    "import json"
   ]
  },
  {
   "cell_type": "code",
   "execution_count": 2,
   "metadata": {},
   "outputs": [],
   "source": [
    "image_folder = \"C:/Users/Arjit/OneDrive/Desktop/MTP/CODE/ColorizeNet-main/data/colorization/training/flickr30k-images\"\n",
    "input_file = \"C:/Users/Arjit/OneDrive/Desktop/MTP/CODE/ColorizeNet-main/data/colorization/train copy.json\"\n",
    "output_file = \"C:/Users/Arjit/OneDrive/Desktop/MTP/CODE/ColorizeNet-main/data/colorization/train copy 2.json\""
   ]
  },
  {
   "cell_type": "code",
   "execution_count": 3,
   "metadata": {},
   "outputs": [],
   "source": [
    "with open(input_file, 'r') as infile:\n",
    "    lines = infile.readlines()[32098:]\n",
    "\n",
    "with open(input_file, 'w') as outfile:\n",
    "    outfile.writelines(lines)"
   ]
  },
  {
   "cell_type": "code",
   "execution_count": 2,
   "metadata": {},
   "outputs": [],
   "source": [
    "import os\n",
    "import json"
   ]
  },
  {
   "cell_type": "code",
   "execution_count": 3,
   "metadata": {},
   "outputs": [],
   "source": [
    "json_file = '/home/satyanshu/Documents/test/ColorizeNet-main/data/colorization/train copy.json'  # Replace with your JSON file path\n",
    "image_folder = '/home/satyanshu/Documents/test/ColorizeNet-main/data/colorization/train2017'  # Replace with your image folder path"
   ]
  },
  {
   "cell_type": "code",
   "execution_count": 4,
   "metadata": {},
   "outputs": [],
   "source": [
    "\n",
    "\n",
    "# Step 1: Read allowed image names from JSON\n",
    "allowed_images = set()\n",
    "with open(json_file, 'r') as f:\n",
    "    for line in f:\n",
    "        data = json.loads(line)\n",
    "        filename = os.path.basename(data[\"image\"])\n",
    "        allowed_images.add(filename)\n",
    "\n",
    "# Step 2: Delete files not in allowed set\n",
    "for img_file in os.listdir(image_folder):\n",
    "    if img_file not in allowed_images:\n",
    "        os.remove(os.path.join(image_folder, img_file))\n"
   ]
  },
  {
   "cell_type": "code",
   "execution_count": null,
   "metadata": {},
   "outputs": [],
   "source": []
  },
  {
   "cell_type": "code",
   "execution_count": null,
   "metadata": {},
   "outputs": [],
   "source": []
  },
  {
   "cell_type": "code",
   "execution_count": 1,
   "metadata": {},
   "outputs": [],
   "source": [
    "import os\n",
    "import json"
   ]
  },
  {
   "cell_type": "code",
   "execution_count": 3,
   "metadata": {},
   "outputs": [],
   "source": [
    "images_folder = \"C:/Users/Arjit/OneDrive/Desktop/MTP/CODE/ColorizeNet-main/data/colorization/training/flickr30k-images\"\n",
    "json_path = \"C:/Users/Arjit/OneDrive/Desktop/MTP/CODE/ColorizeNet-main/data/colorization/train_new.json\""
   ]
  },
  {
   "cell_type": "code",
   "execution_count": 5,
   "metadata": {},
   "outputs": [],
   "source": [
    "with open(json_path, \"r\") as f:\n",
    "    data = [json.loads(line) for line in f if line.strip()]\n",
    "\n",
    "# Extract image filenames from JSON\n",
    "json_images = set(item[\"image\"].split(\"/\")[-1] for item in data)"
   ]
  },
  {
   "cell_type": "code",
   "execution_count": 6,
   "metadata": {},
   "outputs": [
    {
     "name": "stdout",
     "output_type": "stream",
     "text": [
      "Deleted: 3383394399.jpg\n",
      "Deleted: 4950125546.jpg\n",
      "Deleted: 7765548908.jpg\n",
      "Deleted: readme.txt\n"
     ]
    }
   ],
   "source": [
    "for filename in os.listdir(images_folder):\n",
    "    if filename not in json_images:\n",
    "        filepath = os.path.join(images_folder, filename)\n",
    "        os.remove(filepath)\n",
    "        print(f\"Deleted: {filename}\")"
   ]
  },
  {
   "cell_type": "code",
   "execution_count": null,
   "metadata": {},
   "outputs": [],
   "source": []
  }
 ],
 "metadata": {
  "kernelspec": {
   "display_name": "satyan",
   "language": "python",
   "name": "python3"
  },
  "language_info": {
   "codemirror_mode": {
    "name": "ipython",
    "version": 3
   },
   "file_extension": ".py",
   "mimetype": "text/x-python",
   "name": "python",
   "nbconvert_exporter": "python",
   "pygments_lexer": "ipython3",
   "version": "3.10.0"
  }
 },
 "nbformat": 4,
 "nbformat_minor": 2
}
